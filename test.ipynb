{
 "cells": [
  {
   "cell_type": "code",
   "execution_count": 18,
   "metadata": {},
   "outputs": [
    {
     "name": "stdout",
     "output_type": "stream",
     "text": [
      "case1.npy (2541, 19, 12)\n",
      "case10.npy (3601, 19, 12)\n",
      "case12.npy (3973, 20, 12)\n",
      "case13.npy (12751, 20, 12)\n",
      "case14.npy (4975, 20, 12)\n",
      "case15.npy (8353, 20, 12)\n",
      "case16.npy (6927, 20, 12)\n",
      "case17.npy (4703, 20, 12)\n",
      "case2.npy (6291, 19, 12)\n",
      "case3.npy (3179, 19, 12)\n",
      "case5.npy (10161, 19, 12)\n",
      "case6.npy (7901, 18, 12)\n",
      "case7.npy (3417, 17, 12)\n",
      "case8.npy (5129, 17, 12)\n",
      "case9.npy (5257, 18, 12)\n"
     ]
    }
   ],
   "source": [
    "# read case_data\n",
    "import numpy as np\n",
    "import os\n",
    "\n",
    "dir = \"./case_data/\"\n",
    "files = os.listdir(dir)\n",
    "for file in files:\n",
    "    case_data = np.load(dir + file)\n",
    "    print(file , case_data.shape)\n"
   ]
  },
  {
   "cell_type": "code",
   "execution_count": 19,
   "metadata": {},
   "outputs": [
    {
     "name": "stdout",
     "output_type": "stream",
     "text": [
      "case1.npy (2541, 29)\n",
      "case10.npy (3601, 29)\n",
      "case11.npy (6327, 29)\n",
      "case12.npy (3973, 29)\n",
      "case13.npy (12751, 29)\n",
      "case14.npy (4975, 29)\n",
      "case15.npy (8353, 29)\n",
      "case16.npy (6927, 29)\n",
      "case17.npy (4703, 29)\n",
      "case2.npy (6291, 29)\n",
      "case3.npy (3179, 29)\n",
      "case4.npy (6715, 29)\n",
      "case5.npy (10161, 29)\n",
      "case6.npy (7901, 29)\n",
      "case7.npy (3417, 29)\n",
      "case8.npy (5129, 29)\n",
      "case9.npy (5257, 29)\n"
     ]
    }
   ],
   "source": [
    "# read case_external_data\n",
    "import numpy as np\n",
    "import os\n",
    "\n",
    "dir = \"./case_external_data/\"\n",
    "files = os.listdir(dir)\n",
    "for file in files:\n",
    "    case_data = np.load(dir + file, allow_pickle=True)\n",
    "    print(file , case_data.shape)"
   ]
  },
  {
   "cell_type": "code",
   "execution_count": 1,
   "metadata": {},
   "outputs": [
    {
     "name": "stdout",
     "output_type": "stream",
     "text": [
      "[987.]\n",
      "[133.]\n",
      "(4958, 1)\n",
      "[1120.]\n"
     ]
    }
   ],
   "source": [
    "# read decoder_gts\n",
    "import numpy as np\n",
    "\n",
    "dir = \"./input_data/case14/decoder_gts.npy\"\n",
    "decoder_gts = np.load(dir)\n",
    "train_decoder_gts = decoder_gts[:int(0.8*len(decoder_gts))]\n",
    "test_decoder_gts = decoder_gts[int(0.8*len(decoder_gts)):]\n",
    "train_is_true = (train_decoder_gts == 1)\n",
    "test_is_true = (test_decoder_gts == 1)\n",
    "print(np.sum(train_decoder_gts, axis=0))\n",
    "print(np.sum(test_decoder_gts, axis=0))\n",
    "print(decoder_gts.shape)\n",
    "print(np.sum(decoder_gts, axis=0))"
   ]
  }
 ],
 "metadata": {
  "kernelspec": {
   "display_name": "Python 3",
   "language": "python",
   "name": "python3"
  },
  "language_info": {
   "codemirror_mode": {
    "name": "ipython",
    "version": 3
   },
   "file_extension": ".py",
   "mimetype": "text/x-python",
   "name": "python",
   "nbconvert_exporter": "python",
   "pygments_lexer": "ipython3",
   "version": "3.8.16"
  },
  "orig_nbformat": 4
 },
 "nbformat": 4,
 "nbformat_minor": 2
}
